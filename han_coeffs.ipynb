{
 "cells": [
  {
   "cell_type": "code",
   "execution_count": 4,
   "metadata": {},
   "outputs": [],
   "source": [
    "import matplotlib.pyplot as plt\n",
    "import numpy as np"
   ]
  },
  {
   "cell_type": "code",
   "execution_count": 34,
   "metadata": {},
   "outputs": [],
   "source": [
    "data = np.arange(2048)\n",
    "\n",
    "\n",
    "def hann(x):\n",
    "    return (1+np.cos(2*np.pi*(x-2047/2)/2048))/2\n",
    "hann_data = [hann(i) for i in data]\n",
    "\n",
    "\n",
    "def d2b(num, k_prec) :   \n",
    "    binary = \"\" \n",
    "    Integral = int(num)  \n",
    "    fractional = num - Integral   \n",
    "    while (Integral) :           \n",
    "        rem = Integral % 2  \n",
    "        binary += str(rem);    \n",
    "        Integral //= 2\n",
    "    binary = binary[ : : -1]\n",
    "    binary += '.'\n",
    "    while (k_prec) : \n",
    "        fractional *= 2\n",
    "        fract_bit = int(fractional)  \n",
    "        if (fract_bit == 1) :  \n",
    "            fractional -= fract_bit  \n",
    "            binary += '1'             \n",
    "        else : \n",
    "            binary += '0' \n",
    "        k_prec -= 1 \n",
    "    return binary\n",
    "binary = []\n",
    "for each in hann_data:\n",
    "    binary.append( d2b(each, 12)[1:])\n",
    "    \n",
    "with open('hann.txt', 'w') as fl:\n",
    "    for each in binary:\n",
    "        fl.write(each + ',\\n')"
   ]
  },
  {
   "cell_type": "code",
   "execution_count": 33,
   "metadata": {},
   "outputs": [
    {
     "data": {
      "text/plain": [
       "['011110110111',\n",
       " '011110111110',\n",
       " '011111000100',\n",
       " '011111001010',\n",
       " '011111010000',\n",
       " '011111010111',\n",
       " '011111011101',\n",
       " '011111100011',\n",
       " '011111101010',\n",
       " '011111110000',\n",
       " '011111110110',\n",
       " '011111111100',\n",
       " '100000000011',\n",
       " '100000001001',\n",
       " '100000001111',\n",
       " '100000010101',\n",
       " '100000011100',\n",
       " '100000100010',\n",
       " '100000101000',\n",
       " '100000101111']"
      ]
     },
     "execution_count": 33,
     "metadata": {},
     "output_type": "execute_result"
    }
   ],
   "source": [
    "binary[500:520]"
   ]
  },
  {
   "cell_type": "code",
   "execution_count": 21,
   "metadata": {},
   "outputs": [
    {
     "data": {
      "text/plain": [
       "0.00390625"
      ]
     },
     "execution_count": 21,
     "metadata": {},
     "output_type": "execute_result"
    }
   ],
   "source": []
  },
  {
   "cell_type": "code",
   "execution_count": null,
   "metadata": {},
   "outputs": [],
   "source": []
  }
 ],
 "metadata": {
  "kernelspec": {
   "display_name": "Python 3",
   "language": "python",
   "name": "python3"
  },
  "language_info": {
   "codemirror_mode": {
    "name": "ipython",
    "version": 3
   },
   "file_extension": ".py",
   "mimetype": "text/x-python",
   "name": "python",
   "nbconvert_exporter": "python",
   "pygments_lexer": "ipython3",
   "version": "3.7.6"
  }
 },
 "nbformat": 4,
 "nbformat_minor": 4
}
